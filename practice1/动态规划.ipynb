{
 "cells": [
  {
   "cell_type": "markdown",
   "metadata": {},
   "source": [
    "斐波那契数列"
   ]
  },
  {
   "cell_type": "code",
   "execution_count": null,
   "metadata": {},
   "outputs": [],
   "source": [
    "def fibonacci(n):\n",
    "    if n == 1:\n",
    "        return 1\n",
    "    if n == 2:\n",
    "        return 1\n",
    "    if n > 2:\n",
    "        a1 = 1\n",
    "        a2 = 1\n",
    "        count = 1\n",
    "        while count <= n - 2:\n",
    "            a1, a2 = a2, a1 + a2\n",
    "            count += 1\n",
    "        return a2\n",
    "\n",
    "\n",
    "def fibonacci(n):\n",
    "    \"\"\"返回斐波那契数列的第 n 项\"\"\"\n",
    "    if n <= 2:\n",
    "        return 1  # 前两项都是 1\n",
    "\n",
    "    a, b = 1, 1  # 初始化前两项\n",
    "    for _ in range(n - 2):  # 从第 3 项开始计算\n",
    "        a, b = b, a + b  # 更新 a 和 b\n",
    "    return b  # 返回第 n 项\n"
   ]
  },
  {
   "cell_type": "code",
   "execution_count": null,
   "metadata": {},
   "outputs": [],
   "source": [
    "#######动态规划尝试############\n",
    "def fibonacci(n):\n",
    "    if n == 1 or n == 2:\n",
    "        return 1\n",
    "    if n > 2:\n",
    "        dp = [0] * n\n",
    "        dp[0] = 1\n",
    "        dp[1] = 1\n",
    "        for i in range(2, n):\n",
    "            dp[i] = dp[i - 1] + dp[i - 2]\n",
    "        return dp[n - 1]\n",
    "\n",
    "\n",
    "#########标答#############\n",
    "class Solution:\n",
    "    def fib(self, n: int) -> int:\n",
    "        # 排除 Corner Case\n",
    "        if n == 0:\n",
    "            return 0\n",
    "        # 创建 dp table\n",
    "        dp = [0] * (n + 1)\n",
    "        # 初始化 dp 数组\n",
    "        dp[0] = 0\n",
    "        dp[1] = 1\n",
    "        # 遍历顺序: 由前向后。因为后面要用到前面的状态\n",
    "        for i in range(2, n + 1):\n",
    "            # 确定递归公式/状态转移公式\n",
    "            dp[i] = dp[i - 1] + dp[i - 2]\n",
    "        # 返回答案\n",
    "        return dp[n]"
   ]
  },
  {
   "cell_type": "markdown",
   "metadata": {},
   "source": [
    "爬楼梯"
   ]
  },
  {
   "cell_type": "code",
   "execution_count": null,
   "metadata": {},
   "outputs": [],
   "source": [
    "########aN = aN-1 + aN-2###########\n",
    "def stairs(n):\n",
    "    if n == 1:\n",
    "        return 1\n",
    "    if n == 2:\n",
    "        return 2\n",
    "    if n > 2:\n",
    "        dp = [0] * (n + 1)\n",
    "        dp[0] = 0\n",
    "        dp[1] = 1\n",
    "        dp[2] = 2\n",
    "        for i in range(3, n + 1):\n",
    "            dp[i] = dp[i - 1] + dp[i - 2]\n",
    "        return dp[n]"
   ]
  },
  {
   "cell_type": "markdown",
   "metadata": {},
   "source": [
    "爬楼梯II"
   ]
  },
  {
   "cell_type": "code",
   "execution_count": 1,
   "metadata": {},
   "outputs": [],
   "source": [
    "def stairs(cost):\n",
    "    n = len(cost)\n",
    "    dp = [0] * (n + 1)\n",
    "    dp[0] = 0\n",
    "    dp[1] = 0\n",
    "    for i in range(2, n + 1):\n",
    "        dp[i] = min(dp[i - 2] + cost[i - 2], dp[i - 1] + cost[i - 1])\n",
    "    return dp[n]"
   ]
  },
  {
   "cell_type": "markdown",
   "metadata": {},
   "source": [
    "不同路径"
   ]
  },
  {
   "cell_type": "code",
   "execution_count": null,
   "metadata": {},
   "outputs": [],
   "source": [
    "#####dp[m, n] = dp[m-1, n]+dp[m, n-1]  dp[1~m, 1] = 1  dp[1, 1~n] = 1\n",
    "def path(m, n):\n",
    "    dp = [[1] * (m + 1) for _ in range(n + 1)]\n",
    "    for i in range(2, n + 1):\n",
    "        for j in range(2, m + 1):\n",
    "            dp[i][j] = dp[i - 1][j] + dp[i][j - 1]\n",
    "    return dp[n][m]"
   ]
  },
  {
   "cell_type": "code",
   "execution_count": null,
   "metadata": {},
   "outputs": [],
   "source": [
    "print(path(2, 3))\n",
    "print(path(3, 7))\n",
    "print(path(3, 3))"
   ]
  },
  {
   "cell_type": "code",
   "execution_count": null,
   "metadata": {},
   "outputs": [],
   "source": [
    "#####正确答案########\n",
    "class Solution:\n",
    "    def uniquePaths(self, m: int, n: int) -> int:\n",
    "        # 创建一个二维列表用于存储唯一路径数\n",
    "        dp = [[0] * n for _ in range(m)]\n",
    "\n",
    "        # 设置第一行和第一列的基本情况\n",
    "        for i in range(m):\n",
    "            dp[i][0] = 1\n",
    "        for j in range(n):\n",
    "            dp[0][j] = 1\n",
    "\n",
    "        # 计算每个单元格的唯一路径数\n",
    "        for i in range(1, m):\n",
    "            for j in range(1, n):\n",
    "                dp[i][j] = dp[i - 1][j] + dp[i][j - 1]\n",
    "\n",
    "        # 返回右下角单元格的唯一路径数\n",
    "        return dp[m - 1][n - 1]\n"
   ]
  },
  {
   "cell_type": "markdown",
   "metadata": {},
   "source": [
    "路径问题II"
   ]
  },
  {
   "cell_type": "code",
   "execution_count": null,
   "metadata": {},
   "outputs": [],
   "source": [
    "def path(obstacleGrid):\n",
    "    m = len(obstacleGrid)\n",
    "    n = len(obstacleGrid[0])\n",
    "    if obstacleGrid[m - 1][n - 1] == 1 or obstacleGrid[0][0] == 1:\n",
    "        return 0\n",
    "    dp = [[0] * n for _ in range(m)]\n",
    "    # 设置第一行和第一列的基本情况   需要考虑出现障碍物则之后全为0\n",
    "    for i in range(m):\n",
    "        if obstacleGrid[i][0] == 0:\n",
    "            dp[i][0] = 1\n",
    "        else:\n",
    "            break\n",
    "    for j in range(n):\n",
    "        if obstacleGrid[0][j] == 0:\n",
    "            dp[0][j] = 1\n",
    "        else:\n",
    "            break\n",
    "\n",
    "    ####开始递归#######\n",
    "    for i in range(1, m):\n",
    "        for j in range(1, n):\n",
    "            if obstacleGrid[i][j] == 1:\n",
    "                continue\n",
    "            dp[i][j] = dp[i - 1][j] + dp[i][j - 1]\n",
    "\n",
    "    return dp[m - 1][n - 1]"
   ]
  },
  {
   "cell_type": "code",
   "execution_count": null,
   "metadata": {},
   "outputs": [],
   "source": [
    "class Solution:\n",
    "    def uniquePathsWithObstacles(self, obstacleGrid):\n",
    "        m = len(obstacleGrid)\n",
    "        n = len(obstacleGrid[0])\n",
    "        if obstacleGrid[m - 1][n - 1] == 1 or obstacleGrid[0][0] == 1:\n",
    "            return 0\n",
    "        dp = [[0] * n for _ in range(m)]\n",
    "        for i in range(m):\n",
    "            if obstacleGrid[i][0] == 0:  # 遇到障碍物时，直接退出循环，后面默认都是0\n",
    "                dp[i][0] = 1\n",
    "            else:\n",
    "                break\n",
    "        for j in range(n):\n",
    "            if obstacleGrid[0][j] == 0:\n",
    "                dp[0][j] = 1\n",
    "            else:\n",
    "                break\n",
    "        for i in range(1, m):\n",
    "            for j in range(1, n):\n",
    "                if obstacleGrid[i][j] == 1:\n",
    "                    continue\n",
    "                dp[i][j] = dp[i - 1][j] + dp[i][j - 1]\n",
    "        return dp[m - 1][n - 1]\n"
   ]
  },
  {
   "cell_type": "markdown",
   "metadata": {},
   "source": [
    "整数拆分"
   ]
  },
  {
   "cell_type": "code",
   "execution_count": null,
   "metadata": {},
   "outputs": [],
   "source": [
    "#############自己尝试###########\n",
    "def splitdigit(n):\n",
    "    if n == 1:\n",
    "        return 0\n",
    "    if n == 2:\n",
    "        return 1\n",
    "    if n > 2:\n",
    "        dp = [0] * (n + 1)\n",
    "        dp[1] = 1\n",
    "        dp[2] = 1\n",
    "        for i in range(3, n + 1):\n",
    "            compare_list = []\n",
    "            for j in range(1, i):  ##可以改成i//2+1  可以减少一半的运算量\n",
    "                x1 = max(j, dp[j])\n",
    "                x2 = max(i - j, dp[i - j])\n",
    "                compare_list.append(x1 * x2)\n",
    "            dp[i] = max(compare_list)\n",
    "        return dp[n]"
   ]
  },
  {
   "cell_type": "code",
   "execution_count": null,
   "metadata": {},
   "outputs": [],
   "source": [
    "####GPT修改\n",
    "def splitdigit(n):\n",
    "    if n == 2:\n",
    "        return 1  # 2 只能拆分成 1+1，乘积是 1\n",
    "\n",
    "    dp = [0] * (n + 1)\n",
    "    dp[2] = 1  # 直接初始化 dp[2]\n",
    "\n",
    "    for i in range(3, n + 1):\n",
    "        max_value = 0\n",
    "        for j in range(1, i // 2 + 1):  # 只遍历到 i // 2\n",
    "            x1 = max(j, dp[j])  # 取 j 本身或 j 的最大拆分\n",
    "            x2 = max(i - j, dp[i - j])  # 取 i-j 本身或 i-j 的最大拆分\n",
    "            max_value = max(max_value, x1 * x2)  # 直接更新最大值\n",
    "        dp[i] = max_value  # 记录 dp[i]\n",
    "\n",
    "    return dp[n]\n",
    "\n",
    "\n",
    "###########正确答案########\n",
    "class Solution:\n",
    "    # 假设对正整数 i 拆分出的第一个正整数是 j（1 <= j < i），则有以下两种方案：\n",
    "    # 1) 将 i 拆分成 j 和 i−j 的和，且 i−j 不再拆分成多个正整数，此时的乘积是 j * (i-j)\n",
    "    # 2) 将 i 拆分成 j 和 i−j 的和，且 i−j 继续拆分成多个正整数，此时的乘积是 j * dp[i-j]\n",
    "    (\n",
    "        \"\"\"\"\"\"\n",
    "        \"\"\"\n",
    "    这里是不需要拆j的！！！！\n",
    "    \"\"\"\n",
    "        \"\"\"\"\"\"\n",
    "    )\n",
    "\n",
    "    def integerBreak(self, n):\n",
    "        dp = [0] * (n + 1)  # 创建一个大小为n+1的数组来存储计算结果\n",
    "        dp[2] = 1  # 初始化dp[2]为1，因为当n=2时，只有一个切割方式1+1=2，乘积为1\n",
    "\n",
    "        # 从3开始计算，直到n\n",
    "        for i in range(3, n + 1):\n",
    "            # 遍历所有可能的切割点\n",
    "            for j in range(1, i // 2 + 1):\n",
    "                # 计算切割点j和剩余部分(i-j)的乘积，并与之前的结果进行比较取较大值\n",
    "\n",
    "                dp[i] = max(dp[i], (i - j) * j, dp[i - j] * j)\n",
    "\n",
    "        return dp[n]  # 返回最终的计算结果"
   ]
  },
  {
   "cell_type": "markdown",
   "metadata": {},
   "source": [
    "二叉树数量"
   ]
  },
  {
   "cell_type": "code",
   "execution_count": null,
   "metadata": {},
   "outputs": [],
   "source": [
    "#########自己尝试\n",
    "def tree_number(n):\n",
    "    if n == 1:\n",
    "        return 1\n",
    "    if n == 2:\n",
    "        return 2\n",
    "    if n > 2:\n",
    "        dp = [0] * (n + 1)\n",
    "        dp[0] = 1\n",
    "        dp[1] = 1\n",
    "        dp[2] = 2\n",
    "\n",
    "        # for i in (3, n+1):\n",
    "\n",
    "        #     if (i-1) % 2 == 0:\n",
    "        #         for j in range((i-1)/2):\n",
    "        #             dp[i] +=  2 * dp[j] * dp[i-1-j]\n",
    "        #         dp[i] += dp[(i-1)/2] * dp[(i-1)/2]\n",
    "\n",
    "        #     if (i-1) % 2 != 0:\n",
    "        #         for j in range((i-1)/2+1):\n",
    "        #             dp[i] += 2 * dp[j] * dp[i-1-j]\n",
    "\n",
    "        ########尝试另一种写法######\n",
    "        for i in range(3, n + 1):\n",
    "            for j in range(i):\n",
    "                dp[i] += dp[j] * dp[i - 1 - j]\n",
    "\n",
    "        return dp[n]"
   ]
  },
  {
   "cell_type": "code",
   "execution_count": null,
   "metadata": {},
   "outputs": [],
   "source": [
    "############正确答案##########\n",
    "class Solution:\n",
    "    def numTrees(self, n: int) -> int:\n",
    "        dp = [0] * (n + 1)  # 创建一个长度为n+1的数组，初始化为0\n",
    "        dp[0] = 1  # 当n为0时，只有一种情况，即空树，所以dp[0] = 1\n",
    "        for i in range(1, n + 1):  # 遍历从1到n的每个数字\n",
    "            for j in range(\n",
    "                1, i + 1\n",
    "            ):  # 对于每个数字i，计算以i为根节点的二叉搜索树的数量\n",
    "                dp[i] += (\n",
    "                    dp[j - 1] * dp[i - j]\n",
    "                )  # 利用动态规划的思想，累加左子树和右子树的组合数量\n",
    "        return dp[n]  # 返回以1到n为节点的二叉搜索树的总数量\n"
   ]
  },
  {
   "cell_type": "markdown",
   "metadata": {},
   "source": [
    "背包问题"
   ]
  },
  {
   "cell_type": "code",
   "execution_count": null,
   "metadata": {},
   "outputs": [],
   "source": [
    "########自己写######\n",
    "n, bagweight = map(int, input().split())\n",
    "weight = list(map(int, input().split()))\n",
    "value = list(map(int, input().split()))\n",
    "\n",
    "dp = [[0] * (bagweight + 1) for _ in range(n)]\n",
    "\n",
    "\n",
    "def bag_problem(n, bagweight, weight, value):\n",
    "    dp = [[0] * bagweight for _ in range(n)]\n",
    "    for i in range(n):  # 初始化重量为0的时候\n",
    "        dp[i][0] = 0\n",
    "    for j in range(bagweight + 1):  # 初始化只考虑物品0的情况\n",
    "        if j < weight[0]:\n",
    "            dp[0][j] = 0\n",
    "        else:\n",
    "            dp[0][j] = weight[0]\n",
    "\n",
    "    ####开始递归######\n",
    "    for i in range(n):  # 一共有n个物品\n",
    "        \"\"\"\"\"\" \"\"\"\n",
    "        这里应该是for i in range(1, n)\n",
    "        \"\"\" \"\"\"\"\"\"\n",
    "        for j in range(bagweight + 1):\n",
    "            dp[i][j] = max(dp[i - 1][j], dp[i - 1][j - weight[i]] + value[i])\n",
    "\n",
    "    return dp[n - 1][bagweight]\n"
   ]
  },
  {
   "cell_type": "code",
   "execution_count": null,
   "metadata": {},
   "outputs": [],
   "source": [
    "#############GPT修改#############3\n",
    "def bag_problem(n, bagweight, weight, value):\n",
    "    # 初始化 dp 数组，大小 (n, bagweight+1)\n",
    "    dp = [[0] * (bagweight + 1) for _ in range(n)]\n",
    "\n",
    "    # 初始化：只考虑第 0 个物品\n",
    "    for j in range(bagweight + 1):\n",
    "        if j >= weight[0]:  # 只有容量足够时才能放入\n",
    "            dp[0][j] = value[0]\n",
    "\n",
    "    # 递推计算\n",
    "    for i in range(1, n):  # 从第 1 个物品开始\n",
    "        for j in range(bagweight + 1):\n",
    "            if j >= weight[i]:  # 容量足够才能放入\n",
    "                dp[i][j] = max(dp[i - 1][j], dp[i - 1][j - weight[i]] + value[i])\n",
    "            else:\n",
    "                dp[i][j] = dp[i - 1][j]  # 不能放入物品 i\n",
    "\n",
    "    return dp[n - 1][bagweight]\n",
    "\n",
    "\n",
    "print(bag_problem(n, bagweight, weight, value))\n"
   ]
  },
  {
   "cell_type": "code",
   "execution_count": null,
   "metadata": {},
   "outputs": [],
   "source": [
    "####正确答案###########\n",
    "\n",
    "dp = [[0] * (bagweight + 1) for _ in range(n)]\n",
    "\n",
    "for j in range(weight[0], bagweight + 1):\n",
    "    dp[0][j] = value[0]\n",
    "\n",
    "for i in range(1, n):\n",
    "    for j in range(bagweight + 1):\n",
    "        if j < weight[i]:\n",
    "            dp[i][j] = dp[i - 1][j]\n",
    "        else:\n",
    "            dp[i][j] = max(dp[i - 1][j], dp[i - 1][j - weight[i]] + value[i])\n",
    "\n",
    "print(dp[n - 1][bagweight])\n"
   ]
  },
  {
   "cell_type": "code",
   "execution_count": null,
   "metadata": {},
   "outputs": [],
   "source": [
    "def bag_problem(n, bagweight, weight, value):\n",
    "    dp = [[0] * (bagweight + 1) for _ in range(n)]\n",
    "    #########初始化###########\n",
    "    for i in range(bagweight + 1):\n",
    "        if i >= weight[0]:\n",
    "            dp[0][i] = value[0]\n",
    "    ##########初始化背包重量为0时， value都为0#########\n",
    "\n",
    "    #########开始递归#######\n",
    "    for i in range(1, n):\n",
    "        for j in range(1, bagweight + 1):\n",
    "            if j > weight[i]:\n",
    "                dp[i][j] = max(dp[i - 1][j], dp[i - 1][j - weight[i]] + value[i])\n",
    "            else:\n",
    "                dp[i][j] = dp[i - 1][j]\n",
    "\n",
    "    return dp[n - 1][bagweight]\n"
   ]
  },
  {
   "cell_type": "markdown",
   "metadata": {},
   "source": [
    "一维数组实现01背包"
   ]
  },
  {
   "cell_type": "code",
   "execution_count": null,
   "metadata": {},
   "outputs": [],
   "source": [
    "dp = [0] * (bagweight + 1)  # 创建一个动态规划数组dp，初始值为0\n",
    "\n",
    "dp[0] = 0  # 初始化dp[0] = 0,背包容量为0，价值最大为0\n",
    "\n",
    "for i in range(\n",
    "    n\n",
    "):  # 应该先遍历物品，如果遍历背包容量放在上一层，那么每个dp[j]就只会放入一个物品\n",
    "    for j in range(\n",
    "        bagweight, weight[i] - 1, -1\n",
    "    ):  # 倒序遍历背包容量是为了保证物品i只被放入一次\n",
    "        dp[j] = max(dp[j], dp[j - weight[i]] + value[i])\n",
    "\n",
    "print(dp[bagweight])\n"
   ]
  },
  {
   "cell_type": "code",
   "execution_count": 75,
   "metadata": {},
   "outputs": [
    {
     "name": "stdout",
     "output_type": "stream",
     "text": [
      "10\n",
      "9\n",
      "8\n",
      "7\n",
      "6\n"
     ]
    }
   ],
   "source": [
    "for i in range(10, 5, -1):\n",
    "    print(i)"
   ]
  },
  {
   "cell_type": "markdown",
   "metadata": {},
   "source": [
    "集合问题"
   ]
  },
  {
   "cell_type": "code",
   "execution_count": null,
   "metadata": {},
   "outputs": [],
   "source": [
    "###########尝试一下回溯算法暴力搜索############\n",
    "def backtracking(divideSet, startIndex, divideSum, path, result):\n",
    "    Sum = sum(divideSet)\n",
    "    n = len(divideSet)\n",
    "    if startIndex >= n:\n",
    "        return\n",
    "    if divideSum == Sum / 2:\n",
    "        result.append(path[:])  ####这里又忘记写[:]\n",
    "        return result\n",
    "    for i in range(startIndex, n):\n",
    "        ######这里又忘记写左边是startIndex开始了\n",
    "        path.append(divideSet[i])\n",
    "        divideSum += divideSet[i]\n",
    "        backtracking(divideSet, i + 1, divideSum, path, result)\n",
    "        path.pop()\n",
    "        divideSum -= divideSet[i]\n",
    "\n",
    "\n",
    "def dividefuction(divideSet):\n",
    "    result = []\n",
    "    backtracking(divideSet, 0, 0, [], result)\n",
    "    return result"
   ]
  },
  {
   "cell_type": "code",
   "execution_count": null,
   "metadata": {},
   "outputs": [],
   "source": [
    "###########尝试用背包问题求解############\n",
    "###########将这个问题抽象为 物品的重量和价值 都和nums中的元素相同的一个个物品\n",
    "###########然后将它们放进背包当中，当出现了dp[i][target] = target  的时候  就满足了条件\n",
    "def Partition(nums):\n",
    "    weight = nums\n",
    "    value = nums\n"
   ]
  },
  {
   "cell_type": "code",
   "execution_count": null,
   "metadata": {},
   "outputs": [],
   "source": [
    "class Solution:\n",
    "    def canPartition(self, nums):\n",
    "        total_sum = sum(nums)\n",
    "\n",
    "        if total_sum % 2 != 0:\n",
    "            return False\n",
    "\n",
    "        target_sum = total_sum // 2\n",
    "        dp = [[False] * (target_sum + 1) for _ in range(len(nums) + 1)]\n",
    "\n",
    "        # 初始化第一行（空子集可以得到和为0）\n",
    "        for i in range(len(nums) + 1):\n",
    "            dp[i][0] = True\n",
    "\n",
    "        for i in range(1, len(nums) + 1):\n",
    "            for j in range(1, target_sum + 1):\n",
    "                if j < nums[i - 1]:\n",
    "                    # 当前数字大于目标和时，无法使用该数字\n",
    "                    dp[i][j] = dp[i - 1][j]\n",
    "                else:\n",
    "                    # 当前数字小于等于目标和时，可以选择使用或不使用该数字\n",
    "                    dp[i][j] = dp[i - 1][j] or dp[i - 1][j - nums[i - 1]]\n",
    "\n",
    "        return dp[len(nums)][target_sum]\n"
   ]
  },
  {
   "cell_type": "markdown",
   "metadata": {},
   "source": [
    "打家劫舍"
   ]
  },
  {
   "cell_type": "code",
   "execution_count": null,
   "metadata": {},
   "outputs": [],
   "source": [
    "def max_value(nums):\n",
    "    if len(nums) == 1:\n",
    "        return nums[0]\n",
    "    elif len(nums) == 2:\n",
    "        return max(nums[0], nums[1])\n",
    "    elif len(nums) > 2:\n",
    "        dp = [0] * len(nums)\n",
    "        dp[0] = nums[0]\n",
    "        dp[1] = max(nums[0], nums[1])\n",
    "        for i in range(2, len(nums)):\n",
    "            dp[i] = max(dp[i - 2] + nums[i], dp[i - 1])\n",
    "        return dp[-1]"
   ]
  },
  {
   "cell_type": "code",
   "execution_count": null,
   "metadata": {},
   "outputs": [],
   "source": [
    "###########正确答案###########\n",
    "class Solution:\n",
    "    def rob(self, nums: List[int]) -> int:\n",
    "        if len(nums) == 0:  # 如果没有房屋，返回0\n",
    "            return 0\n",
    "        if len(nums) == 1:  # 如果只有一个房屋，返回其金额\n",
    "            return nums[0]\n",
    "\n",
    "        # 创建一个动态规划数组，用于存储最大金额\n",
    "        dp = [0] * len(nums)\n",
    "        dp[0] = nums[0]  # 将dp的第一个元素设置为第一个房屋的金额\n",
    "        dp[1] = max(\n",
    "            nums[0], nums[1]\n",
    "        )  # 将dp的第二个元素设置为第一二个房屋中的金额较大者\n",
    "\n",
    "        # 遍历剩余的房屋\n",
    "        for i in range(2, len(nums)):\n",
    "            # 对于每个房屋，选择抢劫当前房屋和抢劫前一个房屋的最大金额\n",
    "            dp[i] = max(dp[i - 2] + nums[i], dp[i - 1])\n",
    "\n",
    "        return dp[-1]  # 返回最后一个房屋中可抢劫的最大金额"
   ]
  },
  {
   "cell_type": "markdown",
   "metadata": {},
   "source": [
    "打家劫舍II"
   ]
  },
  {
   "cell_type": "code",
   "execution_count": null,
   "metadata": {},
   "outputs": [],
   "source": [
    "##############自己尝试##########\n",
    "##########我的思路：整体和上一道题相同，但是需要设定另一个数组 用于标记当前的选择情况，如果出现了signDP[0] = 1的情况  最后一个元素需要重新考虑\n",
    "def rob(nums):\n",
    "    if len(nums) == 1:\n",
    "        return nums\n",
    "    if len(nums) == 2:\n",
    "        return max(nums[0], nums[1])\n",
    "    if len(nums) > 2:\n",
    "        dp = [0] * len(nums)\n",
    "        sign_dp = [\n",
    "            [0] * i for i in range(1, len(nums) + 1)\n",
    "        ]  # 用来标记dp[i]的时候 元素的使用情况\n",
    "\n",
    "        ###########记录dp[0]的情况\n",
    "        dp[0] = nums[0]\n",
    "        sign_dp[0][0] = 1\n",
    "\n",
    "        ########记录dp[1]的情况\n",
    "        if nums[1] >= nums[0]:\n",
    "            dp[1] = nums[1]\n",
    "            sign_dp[1][0] = 0\n",
    "            sign_dp[1][1] = 1\n",
    "        elif nums[1] < nums[0]:\n",
    "            dp[1] = nums[0]\n",
    "            sign_dp[1][0] = 1\n",
    "            sign_dp[1][1] = 1\n",
    "\n",
    "        ##########记录2， n-1的情况 最后一个值需要单独计算\n",
    "        for i in range(2, len(nums) - 1):\n",
    "            if dp[i - 2] + nums[i] >= dp[i - 1]:\n",
    "                dp[i] = dp[i - 2] + nums[i]\n",
    "                sign_dp[i] = sign_dp[i - 2] + [0, 1]\n",
    "            else:\n",
    "                dp[i] = dp[i - 1]\n",
    "                sign_dp[i] = sign_dp[i - 1] + [0]\n",
    "\n",
    "        ###########最终统计dp[i-2]的情况  首端是否已经加入了元素  加入了对比的时候就不能加入最后一个元素\n",
    "        if sign_dp[-3][0] == 1:\n",
    "            contrast = dp[-3]\n",
    "        else:\n",
    "            contrast = dp[-3] + nums[-1]\n",
    "\n",
    "        if contrast >= dp[-2]:\n",
    "            dp[-1] = contrast\n",
    "        else:\n",
    "            dp[-1] = dp[-2]\n",
    "\n",
    "        return dp[-1]\n"
   ]
  },
  {
   "cell_type": "code",
   "execution_count": null,
   "metadata": {},
   "outputs": [],
   "source": [
    "##############正确的思路  分别考虑  只首不尾  只尾不首   首尾都不考虑   三种情况  最后取最大就可以了\n",
    "#####正确答案\n",
    "class Solution:\n",
    "    def rob(self, nums: List[int]) -> int:\n",
    "        if len(nums) == 0:\n",
    "            return 0\n",
    "        if len(nums) == 1:\n",
    "            return nums[0]\n",
    "\n",
    "        result1 = self.robRange(nums, 0, len(nums) - 2)  # 情况二\n",
    "        result2 = self.robRange(nums, 1, len(nums) - 1)  # 情况三\n",
    "        return max(result1, result2)\n",
    "\n",
    "    # 198.打家劫舍的逻辑\n",
    "    def robRange(self, nums: List[int], start: int, end: int) -> int:\n",
    "        if end == start:\n",
    "            return nums[start]\n",
    "\n",
    "        prev_max = nums[start]\n",
    "        curr_max = max(nums[start], nums[start + 1])\n",
    "\n",
    "        for i in range(start + 2, end + 1):\n",
    "            temp = curr_max\n",
    "            curr_max = max(prev_max + nums[i], curr_max)\n",
    "            prev_max = temp\n",
    "\n",
    "        return curr_max\n"
   ]
  },
  {
   "cell_type": "markdown",
   "metadata": {},
   "source": [
    "打家劫舍III（之后一定要补上）"
   ]
  },
  {
   "cell_type": "code",
   "execution_count": null,
   "metadata": {},
   "outputs": [],
   "source": []
  },
  {
   "cell_type": "markdown",
   "metadata": {},
   "source": [
    "买卖股票I"
   ]
  },
  {
   "cell_type": "code",
   "execution_count": null,
   "metadata": {},
   "outputs": [],
   "source": [
    "def stock(price):\n",
    "    dp = [[0, 0] for _ in range(len(price))]\n",
    "    dp[0][0] = -price[0]\n",
    "    dp[0][1] = 0\n",
    "    for i in range(len(price)):\n",
    "        dp[i][0] = max(dp[i - 1][0], -price[i])\n",
    "        dp[i][1] = max(dp[i - 1][1], dp[i - 1][0] + price[i])\n",
    "\n",
    "    return dp[-1][1]"
   ]
  },
  {
   "cell_type": "code",
   "execution_count": null,
   "metadata": {},
   "outputs": [],
   "source": [
    "#####正确答案###########\n",
    "class Solution:\n",
    "    def maxProfit(self, prices: List[int]) -> int:\n",
    "        length = len(prices)\n",
    "        if length == 0:\n",
    "            return 0\n",
    "        dp = [[0] * 2 for _ in range(length)]\n",
    "        dp[0][0] = -prices[0]\n",
    "        dp[0][1] = 0\n",
    "        for i in range(1, length):\n",
    "            dp[i][0] = max(dp[i - 1][0], -prices[i])\n",
    "            dp[i][1] = max(dp[i - 1][1], prices[i] + dp[i - 1][0])\n",
    "        return dp[-1][1]"
   ]
  },
  {
   "cell_type": "markdown",
   "metadata": {},
   "source": [
    "买卖股票II"
   ]
  },
  {
   "cell_type": "code",
   "execution_count": null,
   "metadata": {},
   "outputs": [],
   "source": [
    "def maxProfit(prices):\n",
    "    if len(prices) <= 1:\n",
    "        return 0\n",
    "    else:\n",
    "        dp = [[0, 0] for _ in range(len(prices))]\n",
    "        dp[0][0] = -prices[0]\n",
    "        dp[0][1] = 0\n",
    "        for i in range(1, len(prices)):\n",
    "            dp[i][0] = max(dp[i - 1][0], dp[i - 1][1] - prices[0])\n",
    "            dp[i][1] = max(dp[i - 1][1], dp[i - 1][0] + prices[i])\n",
    "        return dp[-1][1]"
   ]
  },
  {
   "cell_type": "code",
   "execution_count": null,
   "metadata": {},
   "outputs": [],
   "source": [
    "class Solution:\n",
    "    def maxProfit(self, prices: List[int]) -> int:\n",
    "        length = len(prices)\n",
    "        dp = [[0] * 2 for _ in range(length)]\n",
    "        dp[0][0] = -prices[0]\n",
    "        dp[0][1] = 0\n",
    "        for i in range(1, length):\n",
    "            dp[i][0] = max(\n",
    "                dp[i - 1][0], dp[i - 1][1] - prices[i]\n",
    "            )  # 注意这里是和121. 买卖股票的最佳时机唯一不同的地方\n",
    "            dp[i][1] = max(dp[i - 1][1], dp[i - 1][0] + prices[i])\n",
    "        return dp[-1][1]"
   ]
  },
  {
   "cell_type": "markdown",
   "metadata": {},
   "source": [
    "买卖股票III"
   ]
  },
  {
   "cell_type": "code",
   "execution_count": null,
   "metadata": {},
   "outputs": [],
   "source": [
    "############自己尝试##########\n",
    "def MaxPrice(prices):\n",
    "    n = len(prices)\n",
    "    dp = [[0] * 5 for _ in range(n)]\n",
    "    ######dp[i][0]不操作   dp[i][1]第一次持有   dp[i][2]第一次不持有  dp[i][3]第二次持有  dp[i][4]第二次不持有\n",
    "    dp[0][0] = 0\n",
    "    dp[0][1] = -prices[0]\n",
    "    dp[0][2] = 0\n",
    "    dp[0][3] = 0\n",
    "    dp[0][4] = 0\n",
    "    for i in range(1, n):\n",
    "        dp[i][0] = 0\n",
    "        dp[i][1] = max(dp[i - 1][1], -prices[i])\n",
    "        dp[i][2] = max(dp[i - 1][2], dp[i - 1][1] + prices[i])\n",
    "        dp[i][3] = max(dp[i - 1][3], dp[i - 1][2] - prices[i])\n",
    "        dp[i][4] = max(dp[i - 1][4], dp[i - 1][3] + prices[i])\n",
    "\n",
    "    print(dp)\n",
    "\n",
    "    return max(dp[-1][2], dp[-1][4])\n",
    "\n",
    "\n",
    "############写错了！！！"
   ]
  },
  {
   "cell_type": "code",
   "execution_count": null,
   "metadata": {},
   "outputs": [],
   "source": [
    "def MaxPrice(prices):\n",
    "    n = len(prices)\n",
    "    dp = [[0] * 5 for _ in range(n)]\n",
    "    ######dp[i][0]不操作   dp[i][1]第一次持有   dp[i][2]第一次不持有  dp[i][3]第二次持有  dp[i][4]第二次不持有\n",
    "    dp[0][0] = 0\n",
    "    dp[0][1] = -prices[0]\n",
    "    dp[0][2] = 0\n",
    "    dp[0][3] = -prices[0]  ####这里的赋值很重要！！\n",
    "    dp[0][4] = 0\n",
    "    for i in range(1, n):\n",
    "        dp[i][0] = 0\n",
    "        dp[i][1] = max(dp[i - 1][1], -prices[i])\n",
    "        dp[i][2] = max(dp[i - 1][2], dp[i - 1][1] + prices[i])\n",
    "        dp[i][3] = max(dp[i - 1][3], dp[i - 1][2] - prices[i])\n",
    "        dp[i][4] = max(dp[i - 1][4], dp[i - 1][3] + prices[i])\n",
    "\n",
    "    print(dp)\n",
    "\n",
    "    return max(dp[-1][2], dp[-1][4])"
   ]
  },
  {
   "cell_type": "markdown",
   "metadata": {},
   "source": [
    "买卖股票IV"
   ]
  },
  {
   "cell_type": "code",
   "execution_count": null,
   "metadata": {},
   "outputs": [],
   "source": [
    "def MaxPrice(prices, k):\n",
    "    n = len(prices)\n",
    "    dp = [[0] * (2 * k + 1) for _ in range(n)]\n",
    "    ###########要让j 在(1, 2k)的范围里按照长度为2跳跃\n",
    "    for j in range(1, 2 * k, 2):\n",
    "        dp[0][j] = -prices[0]\n",
    "    for i in range(1, n):\n",
    "        for j in range(1, 2 * k, 2):\n",
    "            dp[i][j] = max(dp[i - 1][j], dp[i - 1][j - 1] - prices[i])\n",
    "            dp[i][j + 1] = max(dp[i - 1][j + 1], dp[i - 1][j] + prices[i])\n",
    "\n",
    "    print(dp)\n",
    "    return dp[-1][-1]"
   ]
  },
  {
   "cell_type": "code",
   "execution_count": null,
   "metadata": {},
   "outputs": [],
   "source": [
    "class Solution:\n",
    "    def maxProfit(self, k: int, prices: List[int]) -> int:\n",
    "        if len(prices) == 0:\n",
    "            return 0\n",
    "        dp = [[0] * (2 * k + 1) for _ in range(len(prices))]\n",
    "        for j in range(1, 2 * k, 2):\n",
    "            dp[0][j] = -prices[0]\n",
    "        for i in range(1, len(prices)):\n",
    "            for j in range(0, 2 * k - 1, 2):\n",
    "                dp[i][j + 1] = max(dp[i - 1][j + 1], dp[i - 1][j] - prices[i])\n",
    "                dp[i][j + 2] = max(dp[i - 1][j + 2], dp[i - 1][j + 1] + prices[i])\n",
    "        return dp[-1][2 * k]"
   ]
  },
  {
   "cell_type": "markdown",
   "metadata": {},
   "source": [
    "买卖股票含冷静期"
   ]
  },
  {
   "cell_type": "code",
   "execution_count": null,
   "metadata": {},
   "outputs": [],
   "source": [
    "##########自己尝试#####\n",
    "def MaxPrice(prices):\n",
    "    n = len(prices)\n",
    "    dp = [[0] * 5 for _ in range(n)]\n",
    "    dp[0][1] = -prices[0]\n",
    "    dp[0][2] = 0\n",
    "    dp[0][3] = 0  ##由于有冷冻期 所以此处应为0\n",
    "    dp[0][4] = 0\n",
    "\n",
    "    ##########有4个状态  1代表首次持有  2代表首次卖出  3代表之后每次买入   4代表之后每次卖出情况\n",
    "    for i in range(1, n):\n",
    "        dp[i][0] = dp[i - 1][0]\n",
    "        dp[i][1] = max(dp[i - 1][1], dp[i - 1][0] - prices[i])\n",
    "        dp[i][2] = max(dp[i - 1][2], dp[i - 1][1] + prices[i])\n",
    "\n",
    "        if n >= 3 and 2 <= i <= 3:  ##i 为这种情况下 最多进行2次买卖\n",
    "            dp[i][3] = max(\n",
    "                dp[i - 1][3], dp[i - 2][2] - prices[i]\n",
    "            )  ###这里往前多了一天  且有两种状态  是首次卖出之后再买入还是之前还有卖出\n",
    "            dp[i][4] = max(dp[i - 1][4], dp[i - 1][3] + prices[i])\n",
    "\n",
    "        elif n >= 5 and i >= 4:\n",
    "            dp[i][3] = max(\n",
    "                dp[i - 1][3], dp[i - 2][2] - prices[i], dp[i - 2][4] - prices[i]\n",
    "            )  ###这里往前多了一天  且有两种状态  是首次卖出之后再买入还是之前还有卖出\n",
    "            dp[i][4] = max(dp[i - 1][4], dp[i - 1][3] + prices[i])\n",
    "\n",
    "    print(dp)\n",
    "    return max(dp[-1][2], dp[-1][4])\n",
    "\n",
    "\n",
    "#########错误！！##############\n"
   ]
  },
  {
   "cell_type": "code",
   "execution_count": 55,
   "metadata": {},
   "outputs": [
    {
     "name": "stdout",
     "output_type": "stream",
     "text": [
      "[[0, -2, 0, 0, 0], [0, -1, 0, 0, 0], [0, -1, 3, 0, 4]]\n"
     ]
    },
    {
     "data": {
      "text/plain": [
       "4"
      ]
     },
     "execution_count": 55,
     "metadata": {},
     "output_type": "execute_result"
    }
   ],
   "source": [
    "MaxPrice([2, 1, 4])"
   ]
  },
  {
   "cell_type": "code",
   "execution_count": null,
   "metadata": {},
   "outputs": [],
   "source": [
    "def MaxPrice(prices):\n",
    "    n = len(prices)\n",
    "    dp = [[0] * 3 for _ in range(n)]\n",
    "    dp[0][0] = -prices[0]  ###持有股票状态\n",
    "    dp[0][1] = 0  ####保持卖出股票的状态 包括冷冻期\n",
    "    dp[0][2] = 0  ####具体卖出股票当天的状态\n",
    "    for i in range(1, n):\n",
    "        dp[i][0] = max(dp[i - 1][0], dp[i - 1][2] - prices[i])\n",
    "        dp[i][1] = max(dp[i - 1][1], dp[i - 1][2])\n",
    "        dp[i][2] = dp[i - 1][0] + prices[i]\n",
    "    return max(dp[-1][1], dp[-1][2])\n"
   ]
  },
  {
   "cell_type": "code",
   "execution_count": null,
   "metadata": {},
   "outputs": [],
   "source": [
    "class Solution:\n",
    "    def maxProfit(self, prices: List[int]) -> int:\n",
    "        n = len(prices)\n",
    "        if n == 0:\n",
    "            return 0\n",
    "        dp = [\n",
    "            [0] * 4 for _ in range(n)\n",
    "        ]  # 创建动态规划数组，4个状态分别表示持有股票、不持有股票且处于冷冻期、不持有股票且不处于冷冻期、不持有股票且当天卖出后处于冷冻期\n",
    "        dp[0][0] = -prices[0]  # 初始状态：第一天持有股票的最大利润为买入股票的价格\n",
    "        for i in range(1, n):\n",
    "            dp[i][0] = max(\n",
    "                dp[i - 1][0], max(dp[i - 1][3], dp[i - 1][1]) - prices[i]\n",
    "            )  # 当前持有股票的最大利润等于前一天持有股票的最大利润或者前一天不持有股票且不处于冷冻期的最大利润减去当前股票的价格\n",
    "            dp[i][1] = max(\n",
    "                dp[i - 1][1], dp[i - 1][3]\n",
    "            )  # 当前不持有股票且处于冷冻期的最大利润等于前一天持有股票的最大利润加上当前股票的价格\n",
    "            dp[i][2] = (\n",
    "                dp[i - 1][0] + prices[i]\n",
    "            )  # 当前不持有股票且不处于冷冻期的最大利润等于前一天不持有股票的最大利润或者前一天处于冷冻期的最大利润\n",
    "            dp[i][3] = dp[i - 1][\n",
    "                2\n",
    "            ]  # 当前不持有股票且当天卖出后处于冷冻期的最大利润等于前一天不持有股票且不处于冷冻期的最大利润\n",
    "        return max(\n",
    "            dp[n - 1][3], dp[n - 1][1], dp[n - 1][2]\n",
    "        )  # 返回最后一天不持有股票的最大利润\n"
   ]
  },
  {
   "cell_type": "code",
   "execution_count": null,
   "metadata": {},
   "outputs": [],
   "source": [
    "class Solution:\n",
    "    def maxProfit(self, prices: List[int]) -> int:\n",
    "        n = len(prices)\n",
    "        if n < 2:\n",
    "            return 0\n",
    "\n",
    "        # 定义三种状态的动态规划数组\n",
    "        dp = [[0] * 3 for _ in range(n)]\n",
    "        dp[0][0] = -prices[0]  # 持有股票的最大利润\n",
    "        dp[0][1] = 0  # 不持有股票，且处于冷冻期的最大利润\n",
    "        dp[0][2] = 0  # 不持有股票，不处于冷冻期的最大利润\n",
    "\n",
    "        for i in range(1, n):\n",
    "            # 当前持有股票的最大利润等于前一天持有股票的最大利润或者前一天不持有股票且不处于冷冻期的最大利润减去当前股票的价格\n",
    "            dp[i][0] = max(dp[i - 1][0], dp[i - 1][2] - prices[i])\n",
    "            # 当前不持有股票且处于冷冻期的最大利润等于前一天持有股票的最大利润加上当前股票的价格\n",
    "            dp[i][1] = dp[i - 1][0] + prices[i]\n",
    "            # 当前不持有股票且不处于冷冻期的最大利润等于前一天不持有股票的最大利润或者前一天处于冷冻期的最大利润\n",
    "            dp[i][2] = max(dp[i - 1][2], dp[i - 1][1])\n",
    "\n",
    "        # 返回最后一天不持有股票的最大利润\n",
    "        return max(dp[-1][1], dp[-1][2])\n"
   ]
  },
  {
   "cell_type": "markdown",
   "metadata": {},
   "source": [
    "股票带手续费"
   ]
  },
  {
   "cell_type": "code",
   "execution_count": null,
   "metadata": {},
   "outputs": [],
   "source": [
    "def MaxPrice(prices, fee):\n",
    "    n = len(prices)\n",
    "    dp = [[0] * 2 for _ in range(n)]\n",
    "    dp[0][0] = -prices[0]  ##持有\n",
    "    dp[0][1] = 0  ##不持有\n",
    "    for i in range(1, n):\n",
    "        dp[i][0] = max(dp[i - 1][0], dp[i - 1][1] - prices[i])\n",
    "        dp[i][1] = max(dp[i - 1][1], dp[i - 1][0] + prices[i] - fee)\n",
    "    return max(dp[-1][0], dp[-1][1])"
   ]
  },
  {
   "cell_type": "code",
   "execution_count": null,
   "metadata": {},
   "outputs": [],
   "source": [
    "class Solution:\n",
    "    def maxProfit(self, prices: List[int], fee: int) -> int:\n",
    "        n = len(prices)\n",
    "        dp = [[0] * 2 for _ in range(n)]\n",
    "        dp[0][0] = -prices[0]  # 持股票\n",
    "        for i in range(1, n):\n",
    "            dp[i][0] = max(dp[i - 1][0], dp[i - 1][1] - prices[i])\n",
    "            dp[i][1] = max(dp[i - 1][1], dp[i - 1][0] + prices[i] - fee)\n",
    "        return max(dp[-1][0], dp[-1][1])"
   ]
  },
  {
   "cell_type": "markdown",
   "metadata": {},
   "source": [
    "最长递增子序列"
   ]
  },
  {
   "cell_type": "code",
   "execution_count": null,
   "metadata": {},
   "outputs": [],
   "source": [
    "def longLength(nums):\n",
    "    n = len(nums)\n",
    "    dp = [1] * n\n",
    "    dp[0] = 1  ###代表以i结尾的序列中最长的递增子序列\n",
    "    for i in range(1, n):\n",
    "        for j in range(i):\n",
    "            if nums[j] < nums[i]:\n",
    "                dp[i] = max(dp[j] + 1, dp[i])\n",
    "    return max(dp)"
   ]
  },
  {
   "cell_type": "markdown",
   "metadata": {},
   "source": [
    "最长连续递增子序列"
   ]
  },
  {
   "cell_type": "code",
   "execution_count": null,
   "metadata": {},
   "outputs": [],
   "source": [
    "def LongLength(nums):\n",
    "    n = len(nums)\n",
    "    dp = [1] * n  # 代表以i为结尾的最长\n",
    "    dp[0] = 1\n",
    "    for i in range(1, n):\n",
    "        if nums[i - 1] < nums[i]:\n",
    "            dp[i] = dp[i - 1] + 1\n",
    "\n",
    "    print(dp)\n",
    "    return max(dp)\n"
   ]
  },
  {
   "cell_type": "code",
   "execution_count": null,
   "metadata": {},
   "outputs": [],
   "source": [
    "class Solution:\n",
    "    def findLengthOfLCIS(self, nums: List[int]) -> int:\n",
    "        if len(nums) == 0:\n",
    "            return 0\n",
    "        result = 1\n",
    "        dp = [1] * len(nums)\n",
    "        for i in range(len(nums) - 1):\n",
    "            if nums[i + 1] > nums[i]:  # 连续记录\n",
    "                dp[i + 1] = dp[i] + 1\n",
    "            result = max(result, dp[i + 1])\n",
    "        return result"
   ]
  },
  {
   "cell_type": "markdown",
   "metadata": {},
   "source": [
    "最长重复子数组"
   ]
  }
 ],
 "metadata": {
  "kernelspec": {
   "display_name": "Python 3",
   "language": "python",
   "name": "python3"
  },
  "language_info": {
   "codemirror_mode": {
    "name": "ipython",
    "version": 3
   },
   "file_extension": ".py",
   "mimetype": "text/x-python",
   "name": "python",
   "nbconvert_exporter": "python",
   "pygments_lexer": "ipython3",
   "version": "3.12.4"
  }
 },
 "nbformat": 4,
 "nbformat_minor": 2
}
