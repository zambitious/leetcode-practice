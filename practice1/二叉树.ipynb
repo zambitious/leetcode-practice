{
 "cells": [
  {
   "cell_type": "markdown",
   "metadata": {},
   "source": [
    "前序遍历 中序遍历 后序遍历"
   ]
  },
  {
   "cell_type": "code",
   "execution_count": null,
   "metadata": {},
   "outputs": [],
   "source": [
    "class TreeNode:\n",
    "    def __init__(self, val=0, self=None, right=None):\n",
    "        self.val = val\n",
    "        self.left = left\n",
    "        self.right = right\n",
    "\n",
    "class Solution:\n",
    "    def PreorderTraversal(self, root):\n",
    "        res = []\n",
    "\n",
    "        def dfs(node):\n",
    "            if node is None:\n",
    "                return      \n",
    "            res.append(node.val)\n",
    "            dfs(node.left)\n",
    "            dfs(node.right)\n",
    "        dfs(root)\n",
    "        return res\n",
    "\n",
    "    def InorderTraversal(self, root):\n",
    "        res = []\n",
    "        \n",
    "        def dfs(node):\n",
    "            if node is None:\n",
    "                return\n",
    "            dfs(node.left)\n",
    "            res.append(node.val)\n",
    "            dfs(node.right)\n",
    "        dfs(root)\n",
    "        return res\n",
    "\n",
    "    def PostorderTraversal(self,root):\n",
    "        res = []\n",
    "\n",
    "        def dfs(node):\n",
    "            dfs(node.left)\n",
    "            dfs(node.right)\n",
    "            res.append(node.val)\n",
    "\n",
    "        dfs(root)\n",
    "        return res"
   ]
  },
  {
   "cell_type": "markdown",
   "metadata": {},
   "source": [
    "非递归遍历"
   ]
  },
  {
   "cell_type": "code",
   "execution_count": null,
   "metadata": {},
   "outputs": [],
   "source": [
    "# 前序遍历-迭代-LC144_二叉树的前序遍历\n",
    "class Solution:\n",
    "    def preorderTraversal(self, root: TreeNode) -> List[int]:\n",
    "        # 根节点为空则返回空列表\n",
    "        if not root:\n",
    "            return []\n",
    "        stack = [root]\n",
    "        result = []\n",
    "        while stack:\n",
    "            node = stack.pop()\n",
    "            # 中节点先处理\n",
    "            result.append(node.val)\n",
    "            # 右孩子先入栈\n",
    "            if node.right:\n",
    "                stack.append(node.right)\n",
    "            # 左孩子后入栈\n",
    "            if node.left:\n",
    "                stack.append(node.left)\n",
    "        return result"
   ]
  },
  {
   "cell_type": "code",
   "execution_count": null,
   "metadata": {},
   "outputs": [],
   "source": [
    "#自己尝试中序遍历\n",
    "############全错了！！！##########\n",
    "# class Solution:\n",
    "#     def inordertraversal(self, root):\n",
    "#         if not root:\n",
    "#             return []\n",
    "#         stack = [root]\n",
    "#         result = []\n",
    "#         while node.left:\n",
    "#             stack.append(left)\n",
    "#         node = stack.pop()\n",
    "#         result.append(node)\n",
    "#         if node.right:\n",
    "#             stack.append(node.right)\n",
    "#         return result"
   ]
  },
  {
   "cell_type": "code",
   "execution_count": null,
   "metadata": {},
   "outputs": [],
   "source": [
    "# 中序遍历-迭代-LC94_二叉树的中序遍历\n",
    "class Solution:\n",
    "    def inorderTraversal(self, root: TreeNode) -> List[int]:\n",
    "\n",
    "        if not root:\n",
    "            return []\n",
    "        stack = []  # 不能提前将root节点加入stack中\n",
    "\n",
    "        result = []\n",
    "        cur = root\n",
    "        while cur or stack:\n",
    "            # 先迭代访问最底层的左子树节点\n",
    "            if cur:     \n",
    "                stack.append(cur)\n",
    "                cur = cur.left\t\t\n",
    "            # 到达最左节点后处理栈顶节点    \n",
    "            else:\t\t\n",
    "                cur = stack.pop()\n",
    "                result.append(cur.val)\n",
    "                # 取栈顶元素右节点\n",
    "                cur = cur.right\t\n",
    "        return result"
   ]
  },
  {
   "cell_type": "code",
   "execution_count": null,
   "metadata": {},
   "outputs": [],
   "source": [
    "#后序遍历 就是前序遍历的思路 之后相反  后序遍历是左右中，反过来是中右左  改变顺序就是前序遍历的中左右\n",
    "class Solution:\n",
    "    def postordertraversal(self, root):\n",
    "        if not root:\n",
    "            return []\n",
    "        stack = [root]\n",
    "        result = []\n",
    "        while stack:\n",
    "            node = stack.pop()\n",
    "            result.append(node.val)\n",
    "            if node.left:\n",
    "                stack.append(node.left)\n",
    "            if node.right:\n",
    "                stack.append(node.right)\n",
    "        return result[::-1]"
   ]
  },
  {
   "cell_type": "markdown",
   "metadata": {},
   "source": [
    "层序遍历（广度优先搜索）"
   ]
  },
  {
   "cell_type": "code",
   "execution_count": null,
   "metadata": {},
   "outputs": [],
   "source": [
    "#自己尝试\n",
    "from collections import deque\n",
    "class Solution:\n",
    "    def levelorder(self, root):\n",
    "        if not root:\n",
    "            return []\n",
    "    queue = deque()\n",
    "    result = []\n",
    "    queue.append(root)\n",
    "    while queue:\n",
    "        size = len(queue)\n",
    "        for _ in range(size):\n",
    "            node = queue.popleft()\n",
    "            result.append(node.val)\n",
    "            if node.left:\n",
    "                queue.append(node.left)\n",
    "            if node.right:\n",
    "                queue.append(node.right)\n"
   ]
  },
  {
   "cell_type": "code",
   "execution_count": null,
   "metadata": {},
   "outputs": [],
   "source": [
    "# 利用长度法\n",
    "class Solution:\n",
    "    def levelOrder(self, root: Optional[TreeNode]) -> List[List[int]]:\n",
    "        if not root:\n",
    "            return []\n",
    "        queue = collections.deque([root])\n",
    "        result = []\n",
    "        while queue:\n",
    "            level = []\n",
    "            for _ in range(len(queue)):\n",
    "                cur = queue.popleft()\n",
    "                level.append(cur.val)\n",
    "                if cur.left:\n",
    "                    queue.append(cur.left)\n",
    "                if cur.right:\n",
    "                    queue.append(cur.right)\n",
    "            result.append(level)\n",
    "        return result"
   ]
  },
  {
   "cell_type": "code",
   "execution_count": null,
   "metadata": {},
   "outputs": [],
   "source": [
    "#递归法\n",
    "class Solution:\n",
    "    def levelOrder(self, root: Optional[TreeNode]) -> List[List[int]]:\n",
    "        if not root:\n",
    "            return []\n",
    "\n",
    "        levels = []\n",
    "\n",
    "        def traverse(node, level):\n",
    "            if not node:\n",
    "                return\n",
    "\n",
    "            if len(levels) == level:\n",
    "                levels.append([])\n",
    "\n",
    "            levels[level].append(node.val)\n",
    "            traverse(node.left, level + 1)\n",
    "            traverse(node.right, level + 1)\n",
    "\n",
    "        traverse(root, 0)\n",
    "        return levels\n"
   ]
  },
  {
   "cell_type": "markdown",
   "metadata": {},
   "source": [
    "二叉树反转"
   ]
  },
  {
   "cell_type": "code",
   "execution_count": null,
   "metadata": {},
   "outputs": [],
   "source": [
    "class Solution:\n",
    "    def invertTree(self, root: TreeNode) -> TreeNode:\n",
    "        if not root:\n",
    "            return None\n",
    "        root.left, root.right = root.right, root.left\n",
    "        self.invertTree(root.left)\n",
    "        self.invertTree(root.right)\n",
    "        return root"
   ]
  },
  {
   "cell_type": "code",
   "execution_count": null,
   "metadata": {},
   "outputs": [],
   "source": [
    "class Solution:\n",
    "    def invertTree(self, root: TreeNode) -> TreeNode:\n",
    "        if not root:\n",
    "            return None      \n",
    "        stack = [root]        \n",
    "        while stack:\n",
    "            node = stack.pop()   \n",
    "            node.left, node.right = node.right, node.left                   \n",
    "            if node.right:\n",
    "                stack.append(node.right)\n",
    "            if node.left:\n",
    "                stack.append(node.left)\n",
    "        return root"
   ]
  },
  {
   "cell_type": "code",
   "execution_count": null,
   "metadata": {},
   "outputs": [],
   "source": []
  }
 ],
 "metadata": {
  "language_info": {
   "name": "python"
  }
 },
 "nbformat": 4,
 "nbformat_minor": 2
}
