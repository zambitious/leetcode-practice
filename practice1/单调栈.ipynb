{
 "cells": [
  {
   "cell_type": "markdown",
   "metadata": {},
   "source": [
    "每日温度"
   ]
  },
  {
   "cell_type": "code",
   "execution_count": null,
   "metadata": {},
   "outputs": [],
   "source": [
    "####################尝试自己写一个单调栈题目################\n",
    "def HighTemperature(nums):\n",
    "    n = len(nums)\n",
    "    result = [0] * n\n",
    "    monotonic_stack = []\n",
    "    for i in range(n):\n",
    "        while monotonic_stack and nums[monotonic_stack[-1]] < nums[i]:\n",
    "            result[monotonic_stack[-1]] = i - monotonic_stack[-1]\n",
    "            monotonic_stack.pop()\n",
    "            ##########上面的两部处理是不能颠倒顺序的！！！##########\n",
    "        monotonic_stack.append(i)\n",
    "    return result\n"
   ]
  },
  {
   "cell_type": "code",
   "execution_count": null,
   "metadata": {},
   "outputs": [],
   "source": [
    "##########正确答案############\n",
    "class Solution:\n",
    "    def dailyTemperatures(self, temperatures):\n",
    "        answer = [0]*len(temperatures)\n",
    "        stack = [0]\n",
    "        for i in range(1,len(temperatures)):\n",
    "            # 情况一和情况二\n",
    "            if temperatures[i]<=temperatures[stack[-1]]:\n",
    "                stack.append(i)\n",
    "            # 情况三\n",
    "            else:\n",
    "                while len(stack) != 0 and temperatures[i]>temperatures[stack[-1]]:\n",
    "                    answer[stack[-1]]=i-stack[-1]\n",
    "                    stack.pop()\n",
    "                stack.append(i)\n",
    "\n",
    "        return answer\n",
    "    \n",
    "class Solution:\n",
    "    def dailyTemperatures(self, temperatures):\n",
    "        answer = [0]*len(temperatures)\n",
    "        stack = []\n",
    "        for i in range(len(temperatures)):\n",
    "            while len(stack)>0 and temperatures[i] > temperatures[stack[-1]]:\n",
    "                answer[stack[-1]] = i - stack[-1]\n",
    "                stack.pop()\n",
    "            stack.append(i)\n",
    "        return answer"
   ]
  },
  {
   "cell_type": "code",
   "execution_count": null,
   "metadata": {},
   "outputs": [],
   "source": [
    "def daliyTemperature(temperature):\n",
    "    result = [0] * len(temperature)\n",
    "    stack = []\n",
    "    for i in range(len(temperature)):\n",
    "        while len(stack)>0 and temperature[i] > temperature[stack[-1]]:\n",
    "            result[stack[-1]] = i - stack[-1]\n",
    "            stack.pop()\n",
    "        stack.append(i) \n",
    "    return result\n",
    "\n",
    "def daliyTemperature(temperature):\n",
    "    result = [0] * len(temperature)\n",
    "    for i in range(len(temperature)):\n",
    "        for j in range(i+1, len(temperature)):\n",
    "            if temperature[j] > temperature[i]:\n",
    "                result[i] = j-i\n",
    "                continue     \n",
    "            \"\"\"\"\"\"\"\"\"\n",
    "            正确的语句根本不是continue 而是break！！！\n",
    "            \"\"\"\"\"\"\"\"\"\n",
    "    return result\n",
    "    "
   ]
  },
  {
   "cell_type": "code",
   "execution_count": null,
   "metadata": {},
   "outputs": [],
   "source": [
    "def daliyTemperature(temperature):\n",
    "    result = [0] * len(temperature)\n",
    "    for i in range(len(temperature)):\n",
    "        for j in range(i+1, len(temperature)):\n",
    "            if temperature[j] > temperature[i]:\n",
    "                result[i] = j-i\n",
    "                break\n",
    "    return result\n",
    "\n",
    "#####时间复杂度是O(N^2)"
   ]
  },
  {
   "cell_type": "markdown",
   "metadata": {},
   "source": [
    "下一个更大元素I"
   ]
  },
  {
   "cell_type": "code",
   "execution_count": null,
   "metadata": {},
   "outputs": [],
   "source": [
    "#############尝试#############\n",
    "def LargerNum(nums1, nums2):\n",
    "    answer = [0] * len(nums1)\n",
    "    result = [0] * len(nums2)\n",
    "    stack = []\n",
    "    for i in range(len(nums2)):\n",
    "        while len(stack) > 0 and nums2[i] > nums2[stack[-1]]:\n",
    "            result[stack[-1]] = nums2[i]\n",
    "            stack.pop()\n",
    "        stack.append(i)\n",
    "        if len(stack) != 0:\n",
    "            for j in stack:\n",
    "                result[j] = -1\n",
    "\n",
    "    for i in range(len(nums1)):\n",
    "        Index = nums2.index(nums1[i])\n",
    "        answer[i] = result[Index]\n",
    "    return answer"
   ]
  },
  {
   "cell_type": "code",
   "execution_count": null,
   "metadata": {},
   "outputs": [],
   "source": [
    "###############自己尝试2.0#################\n",
    "def LargerNum(nums1, nums2):\n",
    "    answer = [-1]*len(nums1)\n",
    "    stack = []\n",
    "    for i in range(len(nums2)):\n",
    "        while len(stack) > 0 and nums2[stack[-1]] < nums2[i]:\n",
    "            num2Number =  nums2[stack[-1]]\n",
    "            if num2Number in nums1:\n",
    "                Index = nums1.index(num2Number)\n",
    "                answer[Index] = nums2[i]\n",
    "            stack.pop() \n",
    "        stack.append(i)\n",
    "    return answer\n"
   ]
  },
  {
   "cell_type": "code",
   "execution_count": null,
   "metadata": {},
   "outputs": [],
   "source": [
    "#正确答案\n",
    "class Solution:\n",
    "    def nextGreaterElement(self, nums1: List[int], nums2: List[int]) -> List[int]:\n",
    "        stack = []\n",
    "        # 创建答案数组\n",
    "        ans = [-1] * len(nums1)\n",
    "        for i in range(len(nums2)):\n",
    "            while len(stack) > 0 and nums2[i] > nums2[stack[-1]]:\n",
    "                # 判断 num1 是否有 nums2[stack[-1]]。如果没有这个判断会出现指针异常\n",
    "                if nums2[stack[-1]] in nums1:\n",
    "                    # 锁定 num1 检索的 index\n",
    "                    index = nums1.index(nums2[stack[-1]])\n",
    "                    # 更新答案数组\n",
    "                    ans[index] = nums2[i]\n",
    "                # 弹出小元素\n",
    "                # 这个代码一定要放在 if 外面。否则单调栈的逻辑就不成立了\n",
    "                stack.pop()\n",
    "            stack.append(i)\n",
    "        return ans"
   ]
  },
  {
   "cell_type": "markdown",
   "metadata": {},
   "source": [
    "下一个更大元素II"
   ]
  },
  {
   "cell_type": "code",
   "execution_count": 69,
   "metadata": {},
   "outputs": [],
   "source": [
    "def LargerElement(nums):\n",
    "    result = [-1] * (len(nums))\n",
    "    doubleNums = nums * 2\n",
    "    stack = []\n",
    "    for i in range(len(doubleNums)):\n",
    "        while len(stack) > 0 and doubleNums[i] > doubleNums[stack[-1]]:\n",
    "            Index = stack[-1]\n",
    "            if Index < len(nums):\n",
    "                result[Index] = doubleNums[i]\n",
    "            stack.pop()\n",
    "        stack.append(i)\n",
    "    return result"
   ]
  },
  {
   "cell_type": "code",
   "execution_count": 70,
   "metadata": {},
   "outputs": [
    {
     "data": {
      "text/plain": [
       "[2, -1, 2]"
      ]
     },
     "execution_count": 70,
     "metadata": {},
     "output_type": "execute_result"
    }
   ],
   "source": [
    "LargerElement([1,2,1])"
   ]
  },
  {
   "cell_type": "markdown",
   "metadata": {},
   "source": [
    "理解一下不用开辟新数组的方法"
   ]
  },
  {
   "cell_type": "code",
   "execution_count": null,
   "metadata": {},
   "outputs": [],
   "source": [
    "class Solution:\n",
    "    def nextGreaterElements(self, nums: List[int]) -> List[int]:\n",
    "        dp = [-1] * len(nums)\n",
    "        stack = []\n",
    "        for i in range(len(nums)*2):\n",
    "            while(len(stack) != 0 and nums[i%len(nums)] > nums[stack[-1]]):\n",
    "                    dp[stack[-1]] = nums[i%len(nums)]\n",
    "                    stack.pop()\n",
    "            stack.append(i%len(nums))\n",
    "        return dp\n",
    "    \n",
    "############所有的循环问题都要考虑取模!!#########"
   ]
  },
  {
   "cell_type": "markdown",
   "metadata": {},
   "source": [
    "雨水问题"
   ]
  },
  {
   "cell_type": "code",
   "execution_count": 26,
   "metadata": {},
   "outputs": [
    {
     "name": "stdout",
     "output_type": "stream",
     "text": [
      "[]\n",
      "[]\n",
      "[]\n",
      "[]\n",
      "[]\n"
     ]
    }
   ],
   "source": [
    "def rainProblem(nums):\n",
    "    Sum = 0\n",
    "    stack = []\n",
    "    for i in range(len(nums)):\n",
    "        ####如果是空的 就加入\n",
    "        if len(stack) == 0:\n",
    "            stack.append(nums[i])\n",
    "\n",
    "        ####如果是没有出现比stack[0]大的元素 就一直往里面stack里面加元素\n",
    "        if len(stack) > 0 and nums[i] < stack[0]:\n",
    "            stack.append(nums[i])\n",
    "    \n",
    "        # #######如果出现了比stack[0]的元素还大的元素  就要开始出列了  并且计算这一块雨水的面积\n",
    "        if len(stack) > 0 and nums[i] >= stack[0]:\n",
    "            recycleStack =[]\n",
    "            recycleStack = stack[:]\n",
    "            stack = []  \n",
    "            ######必须要长度大于1的stack才有雨水\n",
    "            if len(recycleStack) > 1:\n",
    "                onceSum = 0\n",
    "                for j in range(1, len(recycleStack)):\n",
    "                    onceSum += recycleStack[0] - recycleStack[j]\n",
    "                Sum += onceSum\n",
    "\n",
    "        print(stack)\n",
    "\n",
    "    # return Sum\n",
    "\n",
    "rainProblem([2,1,0,1,3])"
   ]
  },
  {
   "cell_type": "code",
   "execution_count": null,
   "metadata": {},
   "outputs": [
    {
     "name": "stdout",
     "output_type": "stream",
     "text": [
      "[2]\n",
      "[2, 1]\n",
      "[2, 1, 0]\n",
      "[2, 1, 0, 1]\n",
      "[]\n"
     ]
    }
   ],
   "source": [
    "\"\"\"\"\"\"\"\"\"\n",
    "为什么debug找不出来问题？？\n",
    "书写的习惯太差！！\n",
    "以后切记不要一直if  if  if\n",
    "这样会导致条件是顺序执行的  执行完第一条之后    第三个if就把stack清空了\n",
    "如果搞不清楚所有情况  也应该if   elif   elif\n",
    "最好是if  elif  else  规范书写\n",
    "\"\"\"\"\"\"\"\"\"\n",
    "def rainProblem(nums):\n",
    "    Sum = 0\n",
    "    stack = []\n",
    "    for i in range(len(nums)):\n",
    "        ####如果是空的 就加入\n",
    "        if len(stack) == 0:\n",
    "            stack.append(nums[i])\n",
    "\n",
    "        ####如果是没有出现比stack[0]大的元素 就一直往里面stack里面加元素\n",
    "        elif len(stack) > 0 and nums[i] < stack[0]:\n",
    "            stack.append(nums[i])\n",
    "    \n",
    "        # #######如果出现了比stack[0]的元素还大的元素  就要开始出列了  并且计算这一块雨水的面积\n",
    "        elif len(stack) > 0 and nums[i] >= stack[0]:\n",
    "            recycleStack =[]\n",
    "            recycleStack = stack[:]\n",
    "            stack = []  \n",
    "            ######必须要长度大于1的stack才有雨水\n",
    "            if len(recycleStack) > 1:\n",
    "                onceSum = 0\n",
    "                for j in range(1, len(recycleStack)):\n",
    "                    onceSum += recycleStack[0] - recycleStack[j]\n",
    "                Sum += onceSum\n",
    "\n",
    "        print(stack)\n",
    "\n",
    "    # return Sum\n",
    "\n",
    "rainProblem([2,1,0,1,3])\n",
    "######这样至少能搞清楚问题出在哪里"
   ]
  },
  {
   "cell_type": "code",
   "execution_count": null,
   "metadata": {},
   "outputs": [],
   "source": [
    "###############自己尝试#############\n",
    "\n",
    "def rainProblem(nums):\n",
    "    Sum = 0\n",
    "    stack = []\n",
    "    for i in range(len(nums)):\n",
    "        ####如果是空的 就加入\n",
    "        if len(stack) == 0:\n",
    "            stack.append(nums[i])\n",
    "\n",
    "        ####如果是没有出现比stack[0]大的元素 就一直往里面stack里面加元素\n",
    "        if len(stack) > 0 and nums[i] < stack[0]:\n",
    "            stack.append(nums[i])\n",
    "    \n",
    "        # #######如果出现了比stack[0]的元素还大的元素  就要开始出列了  并且计算这一块雨水的面积\n",
    "        if len(stack) > 0 and nums[i] >= stack[0]:\n",
    "            recycleStack =[]\n",
    "            recycleStack = stack[:]\n",
    "            stack = [nums[i]]  ###这里之前出错了！！！我赋成了stack = []  需要重新增加挡板\n",
    "            ######必须要长度大于1的stack才有雨水\n",
    "            if len(recycleStack) > 1:\n",
    "                onceSum = 0\n",
    "                for j in range(1, len(recycleStack)):\n",
    "                    onceSum += recycleStack[0] - recycleStack[j]\n",
    "                Sum += onceSum\n",
    "\n",
    "    return Sum\n",
    "\n",
    "\"\"\"\"\"\"\"\"\"\"\n",
    "这个写法不对！！！\n",
    "举个反例\n",
    "5  4  1  2  4\n",
    "\"\"\"\"\"\"\"\"\"\""
   ]
  },
  {
   "cell_type": "code",
   "execution_count": 34,
   "metadata": {},
   "outputs": [
    {
     "data": {
      "text/plain": [
       "0"
      ]
     },
     "execution_count": 34,
     "metadata": {},
     "output_type": "execute_result"
    }
   ],
   "source": [
    "rainProblem([5,4,1,2,4])"
   ]
  },
  {
   "cell_type": "code",
   "execution_count": null,
   "metadata": {},
   "outputs": [],
   "source": [
    "class Solution:\n",
    "    def nextGreaterElements(self, nums: List[int]) -> List[int]:\n",
    "        dp = [-1] * len(nums)\n",
    "        stack = []\n",
    "        for i in range(len(nums)*2):\n",
    "            while(len(stack) != 0 and nums[i%len(nums)] > nums[stack[-1]]):\n",
    "                    dp[stack[-1]] = nums[i%len(nums)]\n",
    "                    stack.pop()\n",
    "            stack.append(i%len(nums))\n",
    "        return dp"
   ]
  },
  {
   "cell_type": "code",
   "execution_count": null,
   "metadata": {},
   "outputs": [],
   "source": [
    "###############自己尝试2.0#############\n",
    "def rainProblem(nums):\n",
    "    stack = []\n",
    "    Sum = 0\n",
    "    \n",
    "    for i in range(len(nums)):\n",
    "\n",
    "        while (len(stack) != 0 and nums[i] > nums[stack[-1]]):\n",
    "            mid = stack[-1]\n",
    "            stack.pop()\n",
    "            right = i     ###右侧第一个更高的柱子是i\n",
    "\n",
    "            ####判定左侧是否有柱子  如果有的话   就是左侧第一个最高的柱子 就可以求解雨水面积了\n",
    "            if len(stack) != 0:\n",
    "                left = stack[-1]\n",
    "                H = min(nums[left], nums[right]) - nums[mid]\n",
    "                W = right - left - 1\n",
    "                S = H * W\n",
    "                Sum += S\n",
    "                \n",
    "        stack.append(i)\n",
    "  \n",
    "    return Sum\n",
    "\n"
   ]
  },
  {
   "cell_type": "code",
   "execution_count": 55,
   "metadata": {},
   "outputs": [
    {
     "name": "stdout",
     "output_type": "stream",
     "text": [
      "4\n",
      "6\n",
      "9\n"
     ]
    }
   ],
   "source": [
    "print(rainProblem([6, 2, 2, 1, 3]))\n",
    "print(rainProblem([0,1,0,2,1,0,1,3,2,1,2,1]))\n",
    "print(rainProblem([4,2,0,3,2,5]))"
   ]
  },
  {
   "cell_type": "code",
   "execution_count": null,
   "metadata": {},
   "outputs": [],
   "source": [
    "#################正确答案###################\n",
    "class Solution:\n",
    "    def trap(self, height: List[int]) -> int:\n",
    "        # 单调栈\n",
    "        '''\n",
    "        单调栈是按照 行 的方向来计算雨水\n",
    "        从栈顶到栈底的顺序：从小到大\n",
    "        通过三个元素来接水：栈顶，栈顶的下一个元素，以及即将入栈的元素\n",
    "        雨水高度是 min(凹槽左边高度, 凹槽右边高度) - 凹槽底部高度\n",
    "        雨水的宽度是 凹槽右边的下标 - 凹槽左边的下标 - 1（因为只求中间宽度）\n",
    "        '''\n",
    "        # stack储存index，用于计算对应的柱子高度\n",
    "        stack = [0]\n",
    "        result = 0\n",
    "        for i in range(1, len(height)):\n",
    "            # 情况一\n",
    "            if height[i] < height[stack[-1]]:\n",
    "                stack.append(i)\n",
    "\n",
    "            # 情况二\n",
    "            # 当当前柱子高度和栈顶一致时，左边的一个是不可能存放雨水的，所以保留右侧新柱子\n",
    "            # 需要使用最右边的柱子来计算宽度\n",
    "            elif height[i] == height[stack[-1]]:\n",
    "                stack.pop()\n",
    "                stack.append(i)\n",
    "\n",
    "            # 情况三\n",
    "            else:\n",
    "                # 抛出所有较低的柱子\n",
    "                while stack and height[i] > height[stack[-1]]:\n",
    "                    # 栈顶就是中间的柱子：储水槽，就是凹槽的地步\n",
    "                    mid_height = height[stack[-1]]\n",
    "                    stack.pop()\n",
    "                    if stack:\n",
    "                        right_height = height[i]\n",
    "                        left_height = height[stack[-1]]\n",
    "                        # 两侧的较矮一方的高度 - 凹槽底部高度\n",
    "                        h = min(right_height, left_height) - mid_height\n",
    "                        # 凹槽右侧下标 - 凹槽左侧下标 - 1: 只求中间宽度\n",
    "                        w = i - stack[-1] - 1\n",
    "                        # 体积：高乘宽\n",
    "                        result += h * w\n",
    "                stack.append(i)\n",
    "        return result\n",
    "\n",
    "# 单调栈压缩版\n",
    "class Solution:\n",
    "    def trap(self, height: List[int]) -> int:\n",
    "        stack = [0]\n",
    "        result = 0\n",
    "        for i in range(1, len(height)):\n",
    "            while stack and height[i] > height[stack[-1]]:\n",
    "                mid_height = stack.pop()\n",
    "                if stack:\n",
    "                    # 雨水高度是 min(凹槽左侧高度, 凹槽右侧高度) - 凹槽底部高度\n",
    "                    h = min(height[stack[-1]], height[i]) - height[mid_height]\n",
    "                    # 雨水宽度是 凹槽右侧的下标 - 凹槽左侧的下标 - 1\n",
    "                    w = i - stack[-1] - 1\n",
    "                    # 累计总雨水体积\n",
    "                    result += h * w\n",
    "            stack.append(i)\n",
    "        return result\n"
   ]
  },
  {
   "cell_type": "markdown",
   "metadata": {},
   "source": [
    "接雨水前缀最大值和后缀最大值解法"
   ]
  },
  {
   "cell_type": "code",
   "execution_count": null,
   "metadata": {},
   "outputs": [],
   "source": [
    "def rainProblem(nums):\n",
    "    #########整体思路如下：可以将每一个格子想象成一个木桶，木桶的两个边是：左边最大的值 和 右边最大的值 之后取两者更小值-底（格子本身高度）\n",
    "    #########计算左边最大高度和右边最大高度，可以用两个数组存放，左侧出现一个更大高度的值就更新  右侧也相同\n",
    "    PremaxList = [0] * len(nums)\n",
    "    PostmaxList = [0] * len(nums)\n",
    "    PremaxList[0] = nums[0]\n",
    "    for i in range(1, len(nums)):\n",
    "        if nums[i] > PremaxList[i-1]:\n",
    "            PremaxList[i] = nums[i]\n",
    "        else:\n",
    "            PremaxList[i] = PremaxList[i-1]\n",
    "    PostmaxList[-1] = nums[-1]\n",
    "    for j in range(len(nums)-2, -1, -1):\n",
    "        if nums[j] > PostmaxList[j+1]:\n",
    "            PostmaxList[j] = nums[j]\n",
    "        else:\n",
    "            PostmaxList[j] = PostmaxList[j+1]\n",
    "\n",
    "    S = 0\n",
    "    for i in range(1, len(nums)-1):\n",
    "        if min(PremaxList[i], PostmaxList[i]) > nums[i]:  \n",
    "            S += min(PremaxList[i], PostmaxList[i]) - nums[i]\n",
    "\n",
    "    return S   \n",
    "\n",
    "\n",
    "#############GPT修改版本\n",
    "def rainProblem(nums):\n",
    "    if len(nums) < 3:\n",
    "        return 0\n",
    "    n = len(nums)\n",
    "    left_max = [0] * n\n",
    "    right_max = [0] * n\n",
    "    \n",
    "    # 计算左侧最大值（不包含当前位置）\n",
    "    for i in range(1, n):\n",
    "        left_max[i] = max(left_max[i-1], nums[i-1])\n",
    "    \n",
    "    # 计算右侧最大值（不包含当前位置）\n",
    "    for i in range(n-2, -1, -1):\n",
    "        right_max[i] = max(right_max[i+1], nums[i+1])\n",
    "    \n",
    "    total = 0\n",
    "    for i in range(1, n-1):\n",
    "        min_height = min(left_max[i], right_max[i])\n",
    "        if min_height > nums[i]:\n",
    "            total += min_height - nums[i]\n",
    "    return total"
   ]
  },
  {
   "cell_type": "code",
   "execution_count": null,
   "metadata": {},
   "outputs": [],
   "source": [
    "###############双指针求解###########\n",
    "def rainProblem(nums):\n",
    "    if len(nums) < 3:\n",
    "        return 0\n",
    "    \n",
    "    left, right = 0, len(nums) - 1  # 初始化左右指针\n",
    "    left_max, right_max = 0, 0       # 初始化左右最大值\n",
    "    total = 0                        # 总积水量\n",
    "    \n",
    "    while left < right:\n",
    "        # 更新左右最大值\n",
    "        left_max = max(left_max, nums[left])\n",
    "        right_max = max(right_max, nums[right])\n",
    "        \n",
    "        # 计算积水量并移动指针\n",
    "        if left_max < right_max:\n",
    "            total += left_max - nums[left]\n",
    "            left += 1\n",
    "        else:\n",
    "            total += right_max - nums[right]\n",
    "            right -= 1\n",
    "    \n",
    "    return total"
   ]
  },
  {
   "cell_type": "markdown",
   "metadata": {},
   "source": [
    "最大矩形"
   ]
  },
  {
   "cell_type": "code",
   "execution_count": 109,
   "metadata": {},
   "outputs": [],
   "source": [
    "###################自己尝试的暴力解法############\n",
    "def MaxSquare(nums):\n",
    "    result = 0\n",
    "    for i in range(len(nums)):\n",
    "        left = i\n",
    "        right = i\n",
    "        while left >= 0 and nums[left] >= nums[i]:\n",
    "            left -= 1\n",
    "        while right < len(nums) and nums[right] >= nums[i]:\n",
    "            right += 1\n",
    "        W = right - left + 1\n",
    "        \"\"\"\"\"\"\"\"\"\n",
    "        错误原因 实际上 left和right最后停留的地点 都是满足该条件的下一个指针位置\n",
    "        \"\"\"\"\"\"\"\"\"\n",
    "        print(f\"left:{left}\")\n",
    "        print(f\"right:{right}\")\n",
    "        print(f\"W:{W}\")\n",
    "        S = W * nums[i]\n",
    "        result = max(result, S)\n",
    "    return result"
   ]
  },
  {
   "cell_type": "code",
   "execution_count": 110,
   "metadata": {},
   "outputs": [
    {
     "name": "stdout",
     "output_type": "stream",
     "text": [
      "left:-1\n",
      "right:3\n",
      "W:5\n",
      "left:0\n",
      "right:3\n",
      "W:4\n",
      "left:1\n",
      "right:3\n",
      "W:3\n"
     ]
    },
    {
     "data": {
      "text/plain": [
       "9"
      ]
     },
     "execution_count": 110,
     "metadata": {},
     "output_type": "execute_result"
    }
   ],
   "source": [
    "MaxSquare([1,2,3])"
   ]
  },
  {
   "cell_type": "code",
   "execution_count": null,
   "metadata": {},
   "outputs": [],
   "source": [
    "##############这个写法时间复杂度是O(n^2)\n",
    "def MaxSquare(nums):\n",
    "    result = 0\n",
    "    for i in range(len(nums)):\n",
    "        left = i\n",
    "        right = i\n",
    "        while left >= 0 and nums[left] >= nums[i]:\n",
    "            left -= 1\n",
    "        while right < len(nums) and nums[right] >= nums[i]:\n",
    "            right += 1\n",
    "        W = right - left - 1   ####应该修改为-1\n",
    "        \"\"\"\"\"\"\"\"\"\n",
    "        错误原因 实际上 left和right最后停留的地点 都是满足该条件的下一个指针位置\n",
    "        \"\"\"\"\"\"\"\"\"\n",
    "        # print(f\"left:{left}\")\n",
    "        # print(f\"right:{right}\")\n",
    "        # print(f\"W:{W}\")\n",
    "        S = W * nums[i]\n",
    "        result = max(result, S)\n",
    "    return result"
   ]
  },
  {
   "cell_type": "code",
   "execution_count": 113,
   "metadata": {},
   "outputs": [
    {
     "data": {
      "text/plain": [
       "10"
      ]
     },
     "execution_count": 113,
     "metadata": {},
     "output_type": "execute_result"
    }
   ],
   "source": [
    "MaxSquare([2,1,5,6,2,3])"
   ]
  },
  {
   "cell_type": "code",
   "execution_count": 137,
   "metadata": {},
   "outputs": [],
   "source": [
    "###################自己尝试单调栈解法############\n",
    "def MaxSquare(nums):\n",
    "    stack = []\n",
    "    result = []\n",
    "    for i in range(len(nums)):\n",
    "        if len(stack) == 0:\n",
    "            stack.append(i)\n",
    "            result.append(nums[i])\n",
    "        ####如果是单调递增的情况下  将数据存放进stack当中   且其中所有的元素都要计算一遍面积 加入result当中\n",
    "        elif len(stack) > 0 and nums[stack[-1]] <= nums[i]:\n",
    "            stack.append(i)\n",
    "            for j in range(len(stack)-1):\n",
    "                W = i - stack[j] + 1\n",
    "                H = nums[stack[j]]\n",
    "                S = W * H\n",
    "                result.append(S)\n",
    "\n",
    "        ########如果出现了减小的情况 开始出栈 计算出栈的元素能和新柱子形成的最大面积  同时 没出栈的元素要重新计算面积\n",
    "        elif len(stack) > 0 and nums[stack[-1]] > nums[i]:\n",
    "            while len(stack) > 0 and nums[stack[-1]] > nums[i]:\n",
    "                W = i - stack[-1] + 1\n",
    "                H = nums[i]\n",
    "                S = W * H\n",
    "                result.append(S)\n",
    "                stack.pop()\n",
    "            stack.append(i)\n",
    "\n",
    "            ###没有出栈的元素需要重新计算面积\n",
    "            for j in range(len(stack)-1):\n",
    "                W = i - stack[j]\n",
    "                H = nums[stack[j]]\n",
    "                S = W*H\n",
    "                result.append(S)\n",
    "\n",
    "    return(max(result))"
   ]
  },
  {
   "cell_type": "code",
   "execution_count": 138,
   "metadata": {},
   "outputs": [
    {
     "name": "stdout",
     "output_type": "stream",
     "text": [
      "4\n",
      "4\n",
      "10\n"
     ]
    }
   ],
   "source": [
    "print(MaxSquare([1,2,3]))\n",
    "print(MaxSquare([2,4]))\n",
    "print(MaxSquare([2,1,5,6,2,3]))"
   ]
  },
  {
   "cell_type": "code",
   "execution_count": null,
   "metadata": {},
   "outputs": [],
   "source": [
    "#############自己优化一下########\n",
    "def MaxSquare(nums):\n",
    "    stack = []\n",
    "    answer = 0\n",
    "    for i in range(len(nums)):\n",
    "        while len(stack) > 0 and nums[i] < nums[stack[-1]]:\n",
    "            H = nums[i]\n",
    "            W = i - stack[-1] + 1\n",
    "            S = H * W\n",
    "            answer = max(answer, S)\n",
    "            stack.pop()\n",
    "\n",
    "        stack.append(i)\n",
    "\n",
    "        for j in range(len(stack)):   #这里包含了stack最后一个元素 和 stack中只有一个元素的情况\n",
    "            H = nums[stack[j]]\n",
    "            W = stack[-1] - stack[j] + 1\n",
    "            S = H * W\n",
    "            answer = max(answer, S)\n",
    "\n",
    "    return answer\n",
    "\n",
    "\n",
    "#############感觉用了单调栈但是没改变时间复杂度啊  还是 O(n^2)\n",
    "\"\"\"\"\"\"\"\"\"\"\n",
    "做错了！！！！思路有问题\n",
    "\"\"\"\"\"\"\"\"\"\"\n"
   ]
  },
  {
   "cell_type": "code",
   "execution_count": 140,
   "metadata": {},
   "outputs": [
    {
     "name": "stdout",
     "output_type": "stream",
     "text": [
      "4\n",
      "4\n",
      "10\n"
     ]
    }
   ],
   "source": [
    "print(MaxSquare([1,2,3]))\n",
    "print(MaxSquare([2,4]))\n",
    "print(MaxSquare([2,1,5,6,2,3]))"
   ]
  },
  {
   "cell_type": "code",
   "execution_count": null,
   "metadata": {},
   "outputs": [],
   "source": [
    "#################这道题的本质是求每个柱子左边第一个比它小的 和右边第一个比它小的############\n",
    "def MaxSquare(nums):\n",
    "    pre_stack = []\n",
    "    post_stack = []\n",
    "    pre_low = [i for i in range(len(nums))]\n",
    "    post_low = [i for i in range(len(nums))]\n",
    "    \"\"\"\"\"\"\"\"\"\n",
    "    错误点：\n",
    "    pre_low的初始值应该设为len(nums)\n",
    "    post_low的初始值应该设置为-1\n",
    "    \"\"\"\"\"\"\"\"\"\n",
    "    result = 0\n",
    "\n",
    "    for i in range(len(nums)):\n",
    "        while len(pre_stack) > 0 and nums[pre_stack[-1]] > nums[i]:\n",
    "            pre_low[pre_stack[-1]] = i\n",
    "            pre_stack.pop()\n",
    "        pre_stack.append(i)\n",
    "\n",
    "    for j in range(len(nums)-1, -1, -1):\n",
    "        while len(post_stack) > 0 and nums[post_stack[-1]] > nums[j]:\n",
    "            post_low[post_stack[-1]] = j\n",
    "            post_stack.pop()\n",
    "        post_stack.append(j)\n",
    "\n",
    "    for i in range(len(nums)):\n",
    "        W = pre_low[i] - post_low[i]\n",
    "        \"\"\"\"\"\"\"\"\"\n",
    "        这里应该是pre_low[i] - post_low[i] - 1\n",
    "        \"\"\"\"\"\"\"\"\"\n",
    "        S = W * nums[i]\n",
    "        result = max(S, result)\n",
    "\n",
    "    return result\n",
    "\n"
   ]
  },
  {
   "cell_type": "code",
   "execution_count": 153,
   "metadata": {},
   "outputs": [],
   "source": [
    "#################这道题的本质是求每个柱子左边第一个比它小的 和右边第一个比它小的############\n",
    "def MaxSquare(nums):\n",
    "    pre_stack = []\n",
    "    post_stack = []\n",
    "    pre_low = [len(nums)] * len(nums)\n",
    "    post_low = [-1] * len(nums)\n",
    "    \"\"\"\"\"\"\"\"\"\n",
    "    错误点：\n",
    "    pre_low的初始值应该设为len(nums)\n",
    "    post_low的初始值应该设置为-1\n",
    "    \"\"\"\"\"\"\"\"\"\n",
    "    result = 0\n",
    "\n",
    "    for i in range(len(nums)):\n",
    "        while len(pre_stack) > 0 and nums[pre_stack[-1]] > nums[i]:\n",
    "            pre_low[pre_stack[-1]] = i\n",
    "            pre_stack.pop()\n",
    "        pre_stack.append(i)\n",
    "\n",
    "    for j in range(len(nums)-1, -1, -1):\n",
    "        while len(post_stack) > 0 and nums[post_stack[-1]] > nums[j]:\n",
    "            post_low[post_stack[-1]] = j\n",
    "            post_stack.pop()\n",
    "        post_stack.append(j)\n",
    "\n",
    "    for i in range(len(nums)):\n",
    "        W = pre_low[i] - post_low[i] -1\n",
    "        S = W * nums[i]\n",
    "        result = max(S, result)\n",
    "\n",
    "    return result"
   ]
  },
  {
   "cell_type": "code",
   "execution_count": null,
   "metadata": {},
   "outputs": [],
   "source": [
    "###############正确答案###########\n",
    "# 单调栈\n",
    "class Solution:\n",
    "    def largestRectangleArea(self, heights: List[int]) -> int:\n",
    "        # Monotonic Stack\n",
    "        '''\n",
    "        找每个柱子左右侧的第一个高度值小于该柱子的柱子\n",
    "        单调栈：栈顶到栈底：从大到小（每插入一个新的小数值时，都要弹出先前的大数值）\n",
    "        栈顶，栈顶的下一个元素，即将入栈的元素：这三个元素组成了最大面积的高度和宽度\n",
    "        情况一：当前遍历的元素heights[i]大于栈顶元素的情况\n",
    "        情况二：当前遍历的元素heights[i]等于栈顶元素的情况\n",
    "        情况三：当前遍历的元素heights[i]小于栈顶元素的情况\n",
    "        '''\n",
    "\n",
    "        # 输入数组首尾各补上一个0（与42.接雨水不同的是，本题原首尾的两个柱子可以作为核心柱进行最大面积尝试\n",
    "        heights.insert(0, 0)\n",
    "        heights.append(0)\n",
    "        stack = [0]\n",
    "        result = 0\n",
    "        for i in range(1, len(heights)):\n",
    "            # 情况一\n",
    "            if heights[i] > heights[stack[-1]]:\n",
    "                stack.append(i)\n",
    "            # 情况二\n",
    "            elif heights[i] == heights[stack[-1]]:\n",
    "                stack.pop()\n",
    "                stack.append(i)\n",
    "            # 情况三\n",
    "            else:\n",
    "                # 抛出所有较高的柱子\n",
    "                while stack and heights[i] < heights[stack[-1]]:\n",
    "                    # 栈顶就是中间的柱子，主心骨\n",
    "                    mid_index = stack[-1]\n",
    "                    stack.pop()\n",
    "                    if stack:\n",
    "                        left_index = stack[-1]\n",
    "                        right_index = i\n",
    "                        width = right_index - left_index - 1\n",
    "                        height = heights[mid_index]\n",
    "                        result = max(result, width * height)\n",
    "                stack.append(i)\n",
    "        return result\n",
    "\n",
    "# 单调栈精简\n",
    "class Solution:\n",
    "    def largestRectangleArea(self, heights: List[int]) -> int:\n",
    "        heights.insert(0, 0)\n",
    "        heights.append(0)\n",
    "        stack = [0]\n",
    "        result = 0\n",
    "        for i in range(1, len(heights)):\n",
    "            while stack and heights[i] < heights[stack[-1]]:\n",
    "                mid_height = heights[stack[-1]]\n",
    "                stack.pop()\n",
    "                if stack:\n",
    "                    # area = width * height\n",
    "                    area = (i - stack[-1] - 1) * mid_height\n",
    "                    result = max(area, result)\n",
    "            stack.append(i)\n",
    "        return result"
   ]
  }
 ],
 "metadata": {
  "kernelspec": {
   "display_name": "Python 3",
   "language": "python",
   "name": "python3"
  },
  "language_info": {
   "codemirror_mode": {
    "name": "ipython",
    "version": 3
   },
   "file_extension": ".py",
   "mimetype": "text/x-python",
   "name": "python",
   "nbconvert_exporter": "python",
   "pygments_lexer": "ipython3",
   "version": "3.11.5"
  }
 },
 "nbformat": 4,
 "nbformat_minor": 2
}
