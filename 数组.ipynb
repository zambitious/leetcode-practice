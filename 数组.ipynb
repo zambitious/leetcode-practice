{
 "cells": [
  {
   "cell_type": "markdown",
   "metadata": {},
   "source": [
    "二分查找"
   ]
  },
  {
   "cell_type": "code",
   "execution_count": null,
   "metadata": {},
   "outputs": [],
   "source": [
    "class Solution:\n",
    "    def search(self, nums: List[int], target: int) -> int:\n",
    "        left, right = 0, len(nums) - 1  # 定义target在左闭右闭的区间里，[left, right]\n",
    "\n",
    "        while left <= right:\n",
    "            middle = left + (right - left) // 2\n",
    "            \n",
    "            if nums[middle] > target:\n",
    "                right = middle - 1  # target在左区间，所以[left, middle - 1]\n",
    "            elif nums[middle] < target:\n",
    "                left = middle + 1  # target在右区间，所以[middle + 1, right]\n",
    "            else:\n",
    "                return middle  # 数组中找到目标值，直接返回下标\n",
    "        return -1  # 未找到目标值"
   ]
  },
  {
   "cell_type": "markdown",
   "metadata": {},
   "source": [
    "删除元素"
   ]
  },
  {
   "cell_type": "code",
   "execution_count": null,
   "metadata": {},
   "outputs": [],
   "source": [
    "class Solution:\n",
    "    def removeElement(self, nums: List[int], val: int) -> int:\n",
    "        # 快慢指针\n",
    "        fast = 0  # 快指针\n",
    "        slow = 0  # 慢指针\n",
    "        size = len(nums)\n",
    "        while fast < size:  # 不加等于是因为，a = size 时，nums[a] 会越界\n",
    "            # slow 用来收集不等于 val 的值，如果 fast 对应值不等于 val，则把它与 slow 替换\n",
    "            if nums[fast] != val:\n",
    "                nums[slow] = nums[fast]\n",
    "                slow += 1\n",
    "            fast += 1\n",
    "        return slow"
   ]
  },
  {
   "cell_type": "markdown",
   "metadata": {},
   "source": [
    "数组平方"
   ]
  },
  {
   "cell_type": "code",
   "execution_count": null,
   "metadata": {},
   "outputs": [],
   "source": [
    "class Solution:\n",
    "    def sortedSquares(self, nums: List[int]) -> List[int]:\n",
    "        l, r, i = 0, len(nums)-1, len(nums)-1\n",
    "        res = [float('inf')] * len(nums) # 需要提前定义列表，存放结果\n",
    "        while l <= r:\n",
    "            if nums[l] ** 2 < nums[r] ** 2: # 左右边界进行对比，找出最大值\n",
    "                res[i] = nums[r] ** 2\n",
    "                r -= 1 # 右指针往左移动\n",
    "            else:\n",
    "                res[i] = nums[l] ** 2\n",
    "                l += 1 # 左指针往右移动\n",
    "            i -= 1 # 存放结果的指针需要往前平移一位\n",
    "        return res"
   ]
  },
  {
   "cell_type": "markdown",
   "metadata": {},
   "source": [
    "滑动窗口"
   ]
  },
  {
   "cell_type": "code",
   "execution_count": null,
   "metadata": {},
   "outputs": [],
   "source": [
    "class Solution:\n",
    "    def minSubArrayLen(self, s: int, nums: List[int]) -> int:\n",
    "        l = len(nums)\n",
    "        left = 0\n",
    "        right = 0\n",
    "        min_len = float('inf')\n",
    "        cur_sum = 0 #当前的累加值\n",
    "        \n",
    "        while right < l:\n",
    "            cur_sum += nums[right]\n",
    "            \n",
    "            while cur_sum >= s: # 当前累加值大于目标值\n",
    "                min_len = min(min_len, right - left + 1)\n",
    "                cur_sum -= nums[left]\n",
    "                left += 1\n",
    "            \n",
    "            right += 1\n",
    "        \n",
    "        return min_len if min_len != float('inf') else 0"
   ]
  },
  {
   "cell_type": "markdown",
   "metadata": {},
   "source": [
    "循环矩阵"
   ]
  },
  {
   "cell_type": "code",
   "execution_count": null,
   "metadata": {},
   "outputs": [],
   "source": [
    "class Solution:\n",
    "    def generateMatrix(self, n: int) -> List[List[int]]:\n",
    "        nums = [[0] * n for _ in range(n)]\n",
    "        startx, starty = 0, 0               # 起始点\n",
    "        loop, mid = n // 2, n // 2          # 迭代次数、n为奇数时，矩阵的中心点\n",
    "        count = 1                           # 计数\n",
    "\n",
    "        for offset in range(1, loop + 1) :      # 每循环一层偏移量加1，偏移量从1开始\n",
    "            for i in range(starty, n - offset) :    # 从左至右，左闭右开\n",
    "                nums[startx][i] = count\n",
    "                count += 1\n",
    "            for i in range(startx, n - offset) :    # 从上至下\n",
    "                nums[i][n - offset] = count\n",
    "                count += 1\n",
    "            for i in range(n - offset, starty, -1) : # 从右至左\n",
    "                nums[n - offset][i] = count\n",
    "                count += 1\n",
    "            for i in range(n - offset, startx, -1) : # 从下至上\n",
    "                nums[i][starty] = count\n",
    "                count += 1                \n",
    "            startx += 1         # 更新起始点\n",
    "            starty += 1\n",
    "\n",
    "        if n % 2 != 0 :\t\t\t# n为奇数时，填充中心点\n",
    "            nums[mid][mid] = count \n",
    "        return nums"
   ]
  }
 ],
 "metadata": {
  "kernelspec": {
   "display_name": "Python 3",
   "language": "python",
   "name": "python3"
  },
  "language_info": {
   "codemirror_mode": {
    "name": "ipython",
    "version": 3
   },
   "file_extension": ".py",
   "mimetype": "text/x-python",
   "name": "python",
   "nbconvert_exporter": "python",
   "pygments_lexer": "ipython3",
   "version": "3.11.5"
  }
 },
 "nbformat": 4,
 "nbformat_minor": 2
}
